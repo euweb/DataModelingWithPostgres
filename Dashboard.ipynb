{
 "cells": [
  {
   "cell_type": "markdown",
   "metadata": {
    "editable": true
   },
   "source": [
    "# run analytics on database\n"
   ]
  },
  {
   "cell_type": "code",
   "execution_count": null,
   "metadata": {
    "editable": true
   },
   "outputs": [],
   "source": [
    "import os\n",
    "import glob\n",
    "import psycopg2\n",
    "import pandas as pd\n",
    "from sql_queries import *"
   ]
  },
  {
   "cell_type": "code",
   "execution_count": null,
   "metadata": {
    "editable": true
   },
   "outputs": [],
   "source": [
    "db_host = os.getenv('DB_HOST', 'localhost')\n",
    "conn = psycopg2.connect(\"host=%s dbname=sparkifydb user=student password=student\" % db_host)\n",
    "cur = conn.cursor()"
   ]
  },
  {
   "cell_type": "markdown",
   "metadata": {},
   "source": [
    "## show 10 users with the most songs played"
   ]
  },
  {
   "cell_type": "code",
   "execution_count": null,
   "metadata": {
    "editable": true
   },
   "outputs": [],
   "source": [
    "query = (\"\"\"\n",
    "    SELECT u.last_name as \"Last Name\", u.first_name as \"First Name\", u.level as \"Level\", count(u.user_id) as \"Number\" FROM (songplays sp JOIN users u on sp.user_id=u.user_id) group by u.user_id,u.level order by \"Number\" desc limit 10;\n",
    "\"\"\")\n",
    "\n",
    "df = pd.read_sql_query(query,conn)\n",
    "\n",
    "df.head(10)"
   ]
  }
 ],
 "metadata": {
  "kernelspec": {
   "display_name": "Python 3",
   "language": "python",
   "name": "python3"
  },
  "language_info": {
   "codemirror_mode": {
    "name": "ipython",
    "version": 3
   },
   "file_extension": ".py",
   "mimetype": "text/x-python",
   "name": "python",
   "nbconvert_exporter": "python",
   "pygments_lexer": "ipython3",
   "version": "3.8.6"
  }
 },
 "nbformat": 4,
 "nbformat_minor": 4
}
